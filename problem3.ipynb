{
 "cells": [
  {
   "cell_type": "code",
   "execution_count": 1,
   "id": "96d4ae5f",
   "metadata": {},
   "outputs": [],
   "source": [
    "#import matplotlib\n",
    "\n",
    "#matplotlib.style.use('fast')\n",
    "\n",
    "import numpy as np\n",
    "import pandas as pd\n",
    "import os\n",
    "import matplotlib.pyplot as plt\n",
    "\n",
    "from data import gaia_df\n",
    "from mpl_toolkits.mplot3d import Axes3D\n",
    "import seaborn as sns"
   ]
  },
  {
   "cell_type": "code",
   "execution_count": 2,
   "id": "6ae2b792",
   "metadata": {},
   "outputs": [
    {
     "name": "stderr",
     "output_type": "stream",
     "text": [
      "/var/folders/f6/j3dwv37956q0mmv40x0xlzmr0000gn/T/ipykernel_12929/3383928859.py:3: SettingWithCopyWarning: \n",
      "A value is trying to be set on a copy of a slice from a DataFrame.\n",
      "Try using .loc[row_indexer,col_indexer] = value instead\n",
      "\n",
      "See the caveats in the documentation: https://pandas.pydata.org/pandas-docs/stable/user_guide/indexing.html#returning-a-view-versus-a-copy\n",
      "  gaia_df['x'] = gaia_df[\"cartesian\"].apply(lambda val: val[0])\n",
      "/var/folders/f6/j3dwv37956q0mmv40x0xlzmr0000gn/T/ipykernel_12929/3383928859.py:4: SettingWithCopyWarning: \n",
      "A value is trying to be set on a copy of a slice from a DataFrame.\n",
      "Try using .loc[row_indexer,col_indexer] = value instead\n",
      "\n",
      "See the caveats in the documentation: https://pandas.pydata.org/pandas-docs/stable/user_guide/indexing.html#returning-a-view-versus-a-copy\n",
      "  gaia_df['y'] = gaia_df[\"cartesian\"].apply(lambda val: val[1])\n",
      "/var/folders/f6/j3dwv37956q0mmv40x0xlzmr0000gn/T/ipykernel_12929/3383928859.py:5: SettingWithCopyWarning: \n",
      "A value is trying to be set on a copy of a slice from a DataFrame.\n",
      "Try using .loc[row_indexer,col_indexer] = value instead\n",
      "\n",
      "See the caveats in the documentation: https://pandas.pydata.org/pandas-docs/stable/user_guide/indexing.html#returning-a-view-versus-a-copy\n",
      "  gaia_df['z'] = gaia_df[\"cartesian\"].apply(lambda val: val[2])\n"
     ]
    }
   ],
   "source": [
    "gaia_df.head()\n",
    "\n",
    "gaia_df['x'] = gaia_df[\"cartesian\"].apply(lambda val: val[0])\n",
    "gaia_df['y'] = gaia_df[\"cartesian\"].apply(lambda val: val[1])\n",
    "gaia_df['z'] = gaia_df[\"cartesian\"].apply(lambda val: val[2])"
   ]
  },
  {
   "cell_type": "code",
   "execution_count": 3,
   "id": "679f43bd",
   "metadata": {},
   "outputs": [],
   "source": [
    "def estimate_distance(df):\n",
    "    return np.sqrt(gaia_df['x']**2 + gaia_df['y']**2 + gaia_df['z'])\n",
    "\n"
   ]
  },
  {
   "cell_type": "code",
   "execution_count": 4,
   "id": "5fafa13f",
   "metadata": {},
   "outputs": [],
   "source": [
    "n_iterations = 1000\n",
    "bootstrap_estimates = []\n",
    "\n",
    "for _ in range(n_iterations): \n",
    "    sample = gaia_df.sample(frac=0.5, replace=True)\n",
    "    estimate = estimate_distance(sample)\n",
    "    bootstrap_estimates.append(estimate)\n",
    "\n",
    "bootstrap_estimates = np.array(bootstrap_estimates)\n",
    "\n"
   ]
  },
  {
   "cell_type": "code",
   "execution_count": 5,
   "id": "49237572",
   "metadata": {},
   "outputs": [
    {
     "data": {
      "text/plain": [
       "array([ 2822.22344573,   309.11753573,   318.5556657 , ...,\n",
       "       23396.4841349 ,  1470.04646202,   753.31017073])"
      ]
     },
     "execution_count": 5,
     "metadata": {},
     "output_type": "execute_result"
    }
   ],
   "source": [
    "bootstrap_estimates = bootstrap_estimates[~np.isnan(bootstrap_estimates)]\n",
    "bootstrap_estimates"
   ]
  },
  {
   "cell_type": "code",
   "execution_count": 6,
   "id": "8ea8b46b",
   "metadata": {},
   "outputs": [
    {
     "data": {
      "text/plain": [
       "array([2822.22344573,  309.11753573,  318.5556657 , ...,  713.84653072,\n",
       "       1470.04646202,  753.31017073])"
      ]
     },
     "execution_count": 6,
     "metadata": {},
     "output_type": "execute_result"
    }
   ],
   "source": [
    "q1 = np.percentile(bootstrap_estimates, 25)\n",
    "q3 = np.percentile(bootstrap_estimates, 75)\n",
    "iqr = q3 - q1\n",
    "\n",
    "lower_bound = q1 - 1.5 * iqr\n",
    "upper_bound = q3 + 1.5 * iqr\n",
    "\n",
    "filtered_estimates = bootstrap_estimates[(bootstrap_estimates >= lower_bound) & (bootstrap_estimates <= upper_bound)]\n",
    "filtered_estimates"
   ]
  },
  {
   "cell_type": "code",
   "execution_count": null,
   "id": "38716f34",
   "metadata": {},
   "outputs": [
    {
     "ename": "",
     "evalue": "",
     "output_type": "error",
     "traceback": [
      "\u001b[1;31mCannot execute code, session has been disposed. Please try restarting the Kernel."
     ]
    },
    {
     "ename": "",
     "evalue": "",
     "output_type": "error",
     "traceback": [
      "\u001b[1;31mCannot execute code, session has been disposed. Please try restarting the Kernel. \n",
      "\u001b[1;31mView Jupyter <a href='command:jupyter.viewOutput'>log</a> for further details."
     ]
    }
   ],
   "source": [
    "plt.figure(figsize=(10, 6))  # Set a larger figure size for better readability\n",
    "sns.kdeplot(bootstrap_estimates, fill=True, color='skyblue', alpha=0.7, label='KDE')\n",
    "plt.axvline(np.mean(bootstrap_estimates), color='red', linestyle='--', linewidth=2, label='Mean Estimate')\n",
    "plt.xlim(0, 10000)\n",
    "plt.xlabel('Distance to Galactic Center', fontsize=12)\n",
    "plt.ylabel('Density (Log Scale)', fontsize=12)\n",
    "plt.title('KDE of Bootstrap Distribution of Distance to Galactic Center', fontsize=14)\n",
    "plt.legend(fontsize=10)\n",
    "plt.tight_layout()\n",
    "plt.show()\n"
   ]
  },
  {
   "cell_type": "code",
   "execution_count": 36,
   "id": "99920170",
   "metadata": {},
   "outputs": [
    {
     "name": "stdout",
     "output_type": "stream",
     "text": [
      "Mean Estimate: 8.73084634370719\n",
      "Standard Deviation of Estimates: 971829.2493484907\n"
     ]
    }
   ],
   "source": [
    "mean_estimate = np.mean(bootstrap_estimates) / 1000\n",
    "std_estimate = np.std(bootstrap_estimates)\n",
    "print(f\"Mean Estimate: {mean_estimate}\")\n",
    "print(f\"Standard Deviation of Estimates: {std_estimate}\")"
   ]
  },
  {
   "cell_type": "code",
   "execution_count": 37,
   "id": "d9451116",
   "metadata": {},
   "outputs": [
    {
     "name": "stdout",
     "output_type": "stream",
     "text": [
      "Accepted Value: 8.178\n",
      "Your Estimate: 8.731 +- 971829.249\n",
      "Range: [-971820.519, 971837.980]\n",
      "Is the accepted value consistent with your estimate? Yes\n"
     ]
    }
   ],
   "source": [
    "accepted_value = 8.178\n",
    "lower_bound = mean_estimate - std_estimate\n",
    "upper_bound = mean_estimate + std_estimate\n",
    "\n",
    "consistent = lower_bound <= accepted_value <= upper_bound\n",
    "\n",
    "print(f\"Accepted Value: {accepted_value}\")\n",
    "print(f\"Your Estimate: {mean_estimate:.3f} +- {std_estimate:.3f}\")\n",
    "print(f\"Range: [{lower_bound:.3f}, {upper_bound:.3f}]\")\n",
    "print(f\"Is the accepted value consistent with your estimate? {'Yes' if consistent else 'No'}\")"
   ]
  }
 ],
 "metadata": {
  "kernelspec": {
   "display_name": "Python 3",
   "language": "python",
   "name": "python3"
  },
  "language_info": {
   "codemirror_mode": {
    "name": "ipython",
    "version": 3
   },
   "file_extension": ".py",
   "mimetype": "text/x-python",
   "name": "python",
   "nbconvert_exporter": "python",
   "pygments_lexer": "ipython3",
   "version": "3.11.1"
  }
 },
 "nbformat": 4,
 "nbformat_minor": 5
}
