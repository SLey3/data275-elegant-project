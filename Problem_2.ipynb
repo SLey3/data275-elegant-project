{
 "cells": [
  {
   "cell_type": "markdown",
   "id": "6716f697",
   "metadata": {},
   "source": [
    "# Problem 2: How far are we from the Galactic Center?\n",
    "\n",
    "In this part of the project, I’m trying to figure out something pretty big (literally): \n",
    "\n",
    "**Where exactly is the center of the Milky Way galaxy, and how far is the Sun from it?**\n",
    "\n",
    "Obviously, we can’t just take a measuring tape and stretch it across space, so I’ll be estimating this using the positions of globular clusters. These clusters are massive groups of stars that orbit the galaxy, and their locations can help us figure out where the \"center of gravity\" (aka the Galactic Center) likely is.\n",
    "\n",
    "Here’s my plan:\n",
    "- **First**, I’ll load up the cluster data and convert their positions into X, Y, Z coordinates (cartesian coordinates make math easier).\n",
    "- **Then**, I’ll calculate the average position of all clusters to get a rough estimate of where the Galactic Center sits.\n",
    "- **Next**, I’ll figure out how far that estimated center is from the Sun (which is at the origin in my coordinate system).\n",
    "- **Finally**, I’ll make some visualizations to help us actually see what’s going on and confirm that the calculation makes sense.\n",
    "\n",
    "By the end of this, I should have:\n",
    "1. A rough estimate for the Galactic Center's location.\n",
    "2. The distance from the Sun to that center.\n",
    "3. Visuals to back everything up.\n",
    "\n",
    "Let’s dive in and figure this out."
   ]
  },
  {
   "cell_type": "markdown",
   "id": "afedf19f",
   "metadata": {},
   "source": [
    "## Step 1: Import Everything We Need\n",
    "\n",
    "Before we can do anything, we need to load in the libraries that will help us through this whole process.\n",
    "\n",
    "Here’s what each of them does and why I’m importing them:\n",
    "\n",
    "- **numpy** → This is my go-to for any math I need to do, especially things like calculating averages, distances, or working with angles (which I’ll need for coordinate conversions).\n",
    "  \n",
    "- **pandas** → This library makes handling tabular data super easy. Since the cluster data is in CSV files (basically spreadsheets), pandas makes it really simple to load and process them.\n",
    "\n",
    "- **os** → This is a basic Python module that helps me work with file paths. I’ll use this to tell Python exactly where to find the data on my computer.\n",
    "\n",
    "- **matplotlib.pyplot** → This is my primary plotting library. It lets me make all kinds of graphs and charts.  \n",
    "  - **mpl_toolkits.mplot3d.Axes3D** → This is a special helper from matplotlib that lets me make 3D scatter plots, which are perfect for visualizing the positions of clusters in space.\n",
    "\n",
    "- **seaborn** → This is another plotting library that makes prettier plots, and more importantly, it makes it easy to add things like KDE (smooth curves) to histograms so I can analyze distributions better.\n",
    "\n",
    "Basically → everything here has a purpose:\n",
    "- math, \n",
    "- data handling, \n",
    "- file management, \n",
    "- and plotting.\n",
    "\n",
    "Once this is all loaded in, I’m ready to start processing the data!"
   ]
  },
  {
   "cell_type": "code",
   "execution_count": 2,
   "id": "adc6b5fc",
   "metadata": {},
   "outputs": [],
   "source": [
    "import numpy as np\n",
    "import pandas as pd\n",
    "import os\n",
    "import matplotlib.pyplot as plt\n",
    "\n",
    "from data import harris_ident_pos_df\n",
    "from mpl_toolkits.mplot3d import Axes3D\n",
    "import seaborn as sns"
   ]
  },
  {
   "cell_type": "markdown",
   "id": "579068b3",
   "metadata": {},
   "source": [
    "## Step 2: Load the Cluster Data\n",
    "\n",
    "Now that everything is imported and ready to go, the next step is to actually load in the data we’ll be working with.  \n",
    "This is where the globular cluster info is stored.\n",
    "\n",
    "First, I’m **hardcoding the path to my data folder**.  \n",
    "Why? Because this project is running on my computer only, so I know exactly where the data is.  \n",
    "Hardcoding the path like this makes life easier → no need to mess with relative paths or dynamic folder searching which can get annoying and sometimes break."
   ]
  },
  {
   "cell_type": "code",
   "execution_count": 3,
   "id": "17058f07",
   "metadata": {},
   "outputs": [
    {
     "data": {
      "application/vnd.microsoft.datawrangler.viewer.v0+json": {
       "columns": [
        {
         "name": "index",
         "rawType": "int64",
         "type": "integer"
        },
        {
         "name": "ID",
         "rawType": "object",
         "type": "string"
        },
        {
         "name": "Name",
         "rawType": "object",
         "type": "string"
        },
        {
         "name": "ra",
         "rawType": "float64",
         "type": "float"
        },
        {
         "name": "dec",
         "rawType": "float64",
         "type": "float"
        },
        {
         "name": "L",
         "rawType": "float64",
         "type": "float"
        },
        {
         "name": "B",
         "rawType": "float64",
         "type": "float"
        },
        {
         "name": "R_Sun",
         "rawType": "float64",
         "type": "float"
        },
        {
         "name": "R_gc",
         "rawType": "float64",
         "type": "float"
        },
        {
         "name": "X",
         "rawType": "float64",
         "type": "float"
        },
        {
         "name": "Y",
         "rawType": "float64",
         "type": "float"
        },
        {
         "name": "Z",
         "rawType": "float64",
         "type": "float"
        },
        {
         "name": "cartesian",
         "rawType": "object",
         "type": "string"
        }
       ],
       "conversionMethod": "pd.DataFrame",
       "ref": "380cc24b-e7d0-410b-9bc1-5d30ee1164c4",
       "rows": [
        [
         "0",
         "NGC 104",
         "47 Tuc",
         "6.023625",
         "71.9187",
         "305.89",
         "-44.89",
         "4.5",
         "7.4",
         "1.9",
         "-2.6",
         "-3.1",
         "(-0.911840049343747, 0.2421398436278596, 0.33153585106390665)"
        ],
        [
         "6",
         "AM 1",
         "E 1",
         "58.75958333333333",
         "48.3847",
         "258.34",
         "-48.47",
         "123.3",
         "124.6",
         "-16.5",
         "-80.1",
         "-92.3",
         "(0.18220091340370506, -0.24465391964032415, -0.9523378007616212)"
        ],
        [
         "10",
         "NGC 1904",
         "M 79",
         "81.04620833333334",
         "23.4753",
         "227.23",
         "-29.35",
         "12.9",
         "18.8",
         "-7.7",
         "-8.3",
         "-6.3",
         "(-0.06965780983159282, 0.05134550263367974, -0.996248678236895)"
        ],
        [
         "24",
         "NGC 4590",
         "M 68",
         "189.86658333333332",
         "25.2559",
         "299.63",
         "36.05",
         "10.3",
         "10.2",
         "4.1",
         "-7.2",
         "6.0",
         "(0.1969429532833589, 0.972687989811673, 0.12284766024697161)"
        ],
        [
         "26",
         "NGC 5024",
         "M 53",
         "198.23020833333334",
         "18.1682",
         "332.96",
         "79.76",
         "17.9",
         "18.4",
         "2.8",
         "-1.4",
         "17.6",
         "(-0.7397264912479308, -0.23684965769561878, -0.6298467732675092)"
        ]
       ],
       "shape": {
        "columns": 12,
        "rows": 5
       }
      },
      "text/html": [
       "<div>\n",
       "<style scoped>\n",
       "    .dataframe tbody tr th:only-of-type {\n",
       "        vertical-align: middle;\n",
       "    }\n",
       "\n",
       "    .dataframe tbody tr th {\n",
       "        vertical-align: top;\n",
       "    }\n",
       "\n",
       "    .dataframe thead th {\n",
       "        text-align: right;\n",
       "    }\n",
       "</style>\n",
       "<table border=\"1\" class=\"dataframe\">\n",
       "  <thead>\n",
       "    <tr style=\"text-align: right;\">\n",
       "      <th></th>\n",
       "      <th>ID</th>\n",
       "      <th>Name</th>\n",
       "      <th>ra</th>\n",
       "      <th>dec</th>\n",
       "      <th>L</th>\n",
       "      <th>B</th>\n",
       "      <th>R_Sun</th>\n",
       "      <th>R_gc</th>\n",
       "      <th>X</th>\n",
       "      <th>Y</th>\n",
       "      <th>Z</th>\n",
       "      <th>cartesian</th>\n",
       "    </tr>\n",
       "  </thead>\n",
       "  <tbody>\n",
       "    <tr>\n",
       "      <th>0</th>\n",
       "      <td>NGC 104</td>\n",
       "      <td>47 Tuc</td>\n",
       "      <td>6.023625</td>\n",
       "      <td>71.9187</td>\n",
       "      <td>305.89</td>\n",
       "      <td>-44.89</td>\n",
       "      <td>4.5</td>\n",
       "      <td>7.4</td>\n",
       "      <td>1.9</td>\n",
       "      <td>-2.6</td>\n",
       "      <td>-3.1</td>\n",
       "      <td>(-0.911840049343747, 0.2421398436278596, 0.331...</td>\n",
       "    </tr>\n",
       "    <tr>\n",
       "      <th>6</th>\n",
       "      <td>AM 1</td>\n",
       "      <td>E 1</td>\n",
       "      <td>58.759583</td>\n",
       "      <td>48.3847</td>\n",
       "      <td>258.34</td>\n",
       "      <td>-48.47</td>\n",
       "      <td>123.3</td>\n",
       "      <td>124.6</td>\n",
       "      <td>-16.5</td>\n",
       "      <td>-80.1</td>\n",
       "      <td>-92.3</td>\n",
       "      <td>(0.18220091340370506, -0.24465391964032415, -0...</td>\n",
       "    </tr>\n",
       "    <tr>\n",
       "      <th>10</th>\n",
       "      <td>NGC 1904</td>\n",
       "      <td>M 79</td>\n",
       "      <td>81.046208</td>\n",
       "      <td>23.4753</td>\n",
       "      <td>227.23</td>\n",
       "      <td>-29.35</td>\n",
       "      <td>12.9</td>\n",
       "      <td>18.8</td>\n",
       "      <td>-7.7</td>\n",
       "      <td>-8.3</td>\n",
       "      <td>-6.3</td>\n",
       "      <td>(-0.06965780983159282, 0.05134550263367974, -0...</td>\n",
       "    </tr>\n",
       "    <tr>\n",
       "      <th>24</th>\n",
       "      <td>NGC 4590</td>\n",
       "      <td>M 68</td>\n",
       "      <td>189.866583</td>\n",
       "      <td>25.2559</td>\n",
       "      <td>299.63</td>\n",
       "      <td>36.05</td>\n",
       "      <td>10.3</td>\n",
       "      <td>10.2</td>\n",
       "      <td>4.1</td>\n",
       "      <td>-7.2</td>\n",
       "      <td>6.0</td>\n",
       "      <td>(0.1969429532833589, 0.972687989811673, 0.1228...</td>\n",
       "    </tr>\n",
       "    <tr>\n",
       "      <th>26</th>\n",
       "      <td>NGC 5024</td>\n",
       "      <td>M 53</td>\n",
       "      <td>198.230208</td>\n",
       "      <td>18.1682</td>\n",
       "      <td>332.96</td>\n",
       "      <td>79.76</td>\n",
       "      <td>17.9</td>\n",
       "      <td>18.4</td>\n",
       "      <td>2.8</td>\n",
       "      <td>-1.4</td>\n",
       "      <td>17.6</td>\n",
       "      <td>(-0.7397264912479308, -0.23684965769561878, -0...</td>\n",
       "    </tr>\n",
       "  </tbody>\n",
       "</table>\n",
       "</div>"
      ],
      "text/plain": [
       "          ID    Name          ra      dec       L      B  R_Sun   R_gc     X  \\\n",
       "0    NGC 104  47 Tuc    6.023625  71.9187  305.89 -44.89    4.5    7.4   1.9   \n",
       "6       AM 1     E 1   58.759583  48.3847  258.34 -48.47  123.3  124.6 -16.5   \n",
       "10  NGC 1904    M 79   81.046208  23.4753  227.23 -29.35   12.9   18.8  -7.7   \n",
       "24  NGC 4590    M 68  189.866583  25.2559  299.63  36.05   10.3   10.2   4.1   \n",
       "26  NGC 5024    M 53  198.230208  18.1682  332.96  79.76   17.9   18.4   2.8   \n",
       "\n",
       "       Y     Z                                          cartesian  \n",
       "0   -2.6  -3.1  (-0.911840049343747, 0.2421398436278596, 0.331...  \n",
       "6  -80.1 -92.3  (0.18220091340370506, -0.24465391964032415, -0...  \n",
       "10  -8.3  -6.3  (-0.06965780983159282, 0.05134550263367974, -0...  \n",
       "24  -7.2   6.0  (0.1969429532833589, 0.972687989811673, 0.1228...  \n",
       "26  -1.4  17.6  (-0.7397264912479308, -0.23684965769561878, -0...  "
      ]
     },
     "execution_count": 3,
     "metadata": {},
     "output_type": "execute_result"
    }
   ],
   "source": [
    "harris_ident_pos_df.head()"
   ]
  },
  {
   "cell_type": "markdown",
   "id": "d6df2fe3",
   "metadata": {},
   "source": [
    "## Step 5: Break Out X, Y, and Z Components\n",
    "\n",
    "At this point, every RA and DEC value in my DataFrame has been converted into **cartesian coordinates** → but right now, they’re still stuck inside tuples like this:"
   ]
  },
  {
   "cell_type": "code",
   "execution_count": 4,
   "id": "8e659dfc",
   "metadata": {},
   "outputs": [
    {
     "data": {
      "application/vnd.microsoft.datawrangler.viewer.v0+json": {
       "columns": [
        {
         "name": "index",
         "rawType": "int64",
         "type": "integer"
        },
        {
         "name": "ID",
         "rawType": "object",
         "type": "string"
        },
        {
         "name": "Name",
         "rawType": "object",
         "type": "string"
        },
        {
         "name": "ra",
         "rawType": "float64",
         "type": "float"
        },
        {
         "name": "dec",
         "rawType": "float64",
         "type": "float"
        },
        {
         "name": "L",
         "rawType": "float64",
         "type": "float"
        },
        {
         "name": "B",
         "rawType": "float64",
         "type": "float"
        },
        {
         "name": "R_Sun",
         "rawType": "float64",
         "type": "float"
        },
        {
         "name": "R_gc",
         "rawType": "float64",
         "type": "float"
        },
        {
         "name": "X",
         "rawType": "float64",
         "type": "float"
        },
        {
         "name": "Y",
         "rawType": "float64",
         "type": "float"
        },
        {
         "name": "Z",
         "rawType": "float64",
         "type": "float"
        },
        {
         "name": "cartesian",
         "rawType": "object",
         "type": "string"
        },
        {
         "name": "x",
         "rawType": "float64",
         "type": "float"
        },
        {
         "name": "y",
         "rawType": "float64",
         "type": "float"
        },
        {
         "name": "z",
         "rawType": "float64",
         "type": "float"
        }
       ],
       "conversionMethod": "pd.DataFrame",
       "ref": "d681bf46-5e65-433e-80a9-ba19f08b6116",
       "rows": [
        [
         "0",
         "NGC 104",
         "47 Tuc",
         "6.023625",
         "71.9187",
         "305.89",
         "-44.89",
         "4.5",
         "7.4",
         "1.9",
         "-2.6",
         "-3.1",
         "(-0.911840049343747, 0.2421398436278596, 0.33153585106390665)",
         "-0.911840049343747",
         "0.2421398436278596",
         "0.33153585106390665"
        ],
        [
         "6",
         "AM 1",
         "E 1",
         "58.75958333333333",
         "48.3847",
         "258.34",
         "-48.47",
         "123.3",
         "124.6",
         "-16.5",
         "-80.1",
         "-92.3",
         "(0.18220091340370506, -0.24465391964032415, -0.9523378007616212)",
         "0.18220091340370506",
         "-0.24465391964032415",
         "-0.9523378007616212"
        ],
        [
         "10",
         "NGC 1904",
         "M 79",
         "81.04620833333334",
         "23.4753",
         "227.23",
         "-29.35",
         "12.9",
         "18.8",
         "-7.7",
         "-8.3",
         "-6.3",
         "(-0.06965780983159282, 0.05134550263367974, -0.996248678236895)",
         "-0.06965780983159282",
         "0.05134550263367974",
         "-0.996248678236895"
        ],
        [
         "24",
         "NGC 4590",
         "M 68",
         "189.86658333333332",
         "25.2559",
         "299.63",
         "36.05",
         "10.3",
         "10.2",
         "4.1",
         "-7.2",
         "6.0",
         "(0.1969429532833589, 0.972687989811673, 0.12284766024697161)",
         "0.1969429532833589",
         "0.972687989811673",
         "0.12284766024697161"
        ],
        [
         "26",
         "NGC 5024",
         "M 53",
         "198.23020833333334",
         "18.1682",
         "332.96",
         "79.76",
         "17.9",
         "18.4",
         "2.8",
         "-1.4",
         "17.6",
         "(-0.7397264912479308, -0.23684965769561878, -0.6298467732675092)",
         "-0.7397264912479308",
         "-0.23684965769561878",
         "-0.6298467732675092"
        ]
       ],
       "shape": {
        "columns": 15,
        "rows": 5
       }
      },
      "text/html": [
       "<div>\n",
       "<style scoped>\n",
       "    .dataframe tbody tr th:only-of-type {\n",
       "        vertical-align: middle;\n",
       "    }\n",
       "\n",
       "    .dataframe tbody tr th {\n",
       "        vertical-align: top;\n",
       "    }\n",
       "\n",
       "    .dataframe thead th {\n",
       "        text-align: right;\n",
       "    }\n",
       "</style>\n",
       "<table border=\"1\" class=\"dataframe\">\n",
       "  <thead>\n",
       "    <tr style=\"text-align: right;\">\n",
       "      <th></th>\n",
       "      <th>ID</th>\n",
       "      <th>Name</th>\n",
       "      <th>ra</th>\n",
       "      <th>dec</th>\n",
       "      <th>L</th>\n",
       "      <th>B</th>\n",
       "      <th>R_Sun</th>\n",
       "      <th>R_gc</th>\n",
       "      <th>X</th>\n",
       "      <th>Y</th>\n",
       "      <th>Z</th>\n",
       "      <th>cartesian</th>\n",
       "      <th>x</th>\n",
       "      <th>y</th>\n",
       "      <th>z</th>\n",
       "    </tr>\n",
       "  </thead>\n",
       "  <tbody>\n",
       "    <tr>\n",
       "      <th>0</th>\n",
       "      <td>NGC 104</td>\n",
       "      <td>47 Tuc</td>\n",
       "      <td>6.023625</td>\n",
       "      <td>71.9187</td>\n",
       "      <td>305.89</td>\n",
       "      <td>-44.89</td>\n",
       "      <td>4.5</td>\n",
       "      <td>7.4</td>\n",
       "      <td>1.9</td>\n",
       "      <td>-2.6</td>\n",
       "      <td>-3.1</td>\n",
       "      <td>(-0.911840049343747, 0.2421398436278596, 0.331...</td>\n",
       "      <td>-0.911840</td>\n",
       "      <td>0.242140</td>\n",
       "      <td>0.331536</td>\n",
       "    </tr>\n",
       "    <tr>\n",
       "      <th>6</th>\n",
       "      <td>AM 1</td>\n",
       "      <td>E 1</td>\n",
       "      <td>58.759583</td>\n",
       "      <td>48.3847</td>\n",
       "      <td>258.34</td>\n",
       "      <td>-48.47</td>\n",
       "      <td>123.3</td>\n",
       "      <td>124.6</td>\n",
       "      <td>-16.5</td>\n",
       "      <td>-80.1</td>\n",
       "      <td>-92.3</td>\n",
       "      <td>(0.18220091340370506, -0.24465391964032415, -0...</td>\n",
       "      <td>0.182201</td>\n",
       "      <td>-0.244654</td>\n",
       "      <td>-0.952338</td>\n",
       "    </tr>\n",
       "    <tr>\n",
       "      <th>10</th>\n",
       "      <td>NGC 1904</td>\n",
       "      <td>M 79</td>\n",
       "      <td>81.046208</td>\n",
       "      <td>23.4753</td>\n",
       "      <td>227.23</td>\n",
       "      <td>-29.35</td>\n",
       "      <td>12.9</td>\n",
       "      <td>18.8</td>\n",
       "      <td>-7.7</td>\n",
       "      <td>-8.3</td>\n",
       "      <td>-6.3</td>\n",
       "      <td>(-0.06965780983159282, 0.05134550263367974, -0...</td>\n",
       "      <td>-0.069658</td>\n",
       "      <td>0.051346</td>\n",
       "      <td>-0.996249</td>\n",
       "    </tr>\n",
       "    <tr>\n",
       "      <th>24</th>\n",
       "      <td>NGC 4590</td>\n",
       "      <td>M 68</td>\n",
       "      <td>189.866583</td>\n",
       "      <td>25.2559</td>\n",
       "      <td>299.63</td>\n",
       "      <td>36.05</td>\n",
       "      <td>10.3</td>\n",
       "      <td>10.2</td>\n",
       "      <td>4.1</td>\n",
       "      <td>-7.2</td>\n",
       "      <td>6.0</td>\n",
       "      <td>(0.1969429532833589, 0.972687989811673, 0.1228...</td>\n",
       "      <td>0.196943</td>\n",
       "      <td>0.972688</td>\n",
       "      <td>0.122848</td>\n",
       "    </tr>\n",
       "    <tr>\n",
       "      <th>26</th>\n",
       "      <td>NGC 5024</td>\n",
       "      <td>M 53</td>\n",
       "      <td>198.230208</td>\n",
       "      <td>18.1682</td>\n",
       "      <td>332.96</td>\n",
       "      <td>79.76</td>\n",
       "      <td>17.9</td>\n",
       "      <td>18.4</td>\n",
       "      <td>2.8</td>\n",
       "      <td>-1.4</td>\n",
       "      <td>17.6</td>\n",
       "      <td>(-0.7397264912479308, -0.23684965769561878, -0...</td>\n",
       "      <td>-0.739726</td>\n",
       "      <td>-0.236850</td>\n",
       "      <td>-0.629847</td>\n",
       "    </tr>\n",
       "  </tbody>\n",
       "</table>\n",
       "</div>"
      ],
      "text/plain": [
       "          ID    Name          ra      dec       L      B  R_Sun   R_gc     X  \\\n",
       "0    NGC 104  47 Tuc    6.023625  71.9187  305.89 -44.89    4.5    7.4   1.9   \n",
       "6       AM 1     E 1   58.759583  48.3847  258.34 -48.47  123.3  124.6 -16.5   \n",
       "10  NGC 1904    M 79   81.046208  23.4753  227.23 -29.35   12.9   18.8  -7.7   \n",
       "24  NGC 4590    M 68  189.866583  25.2559  299.63  36.05   10.3   10.2   4.1   \n",
       "26  NGC 5024    M 53  198.230208  18.1682  332.96  79.76   17.9   18.4   2.8   \n",
       "\n",
       "       Y     Z                                          cartesian         x  \\\n",
       "0   -2.6  -3.1  (-0.911840049343747, 0.2421398436278596, 0.331... -0.911840   \n",
       "6  -80.1 -92.3  (0.18220091340370506, -0.24465391964032415, -0...  0.182201   \n",
       "10  -8.3  -6.3  (-0.06965780983159282, 0.05134550263367974, -0... -0.069658   \n",
       "24  -7.2   6.0  (0.1969429532833589, 0.972687989811673, 0.1228...  0.196943   \n",
       "26  -1.4  17.6  (-0.7397264912479308, -0.23684965769561878, -0... -0.739726   \n",
       "\n",
       "           y         z  \n",
       "0   0.242140  0.331536  \n",
       "6  -0.244654 -0.952338  \n",
       "10  0.051346 -0.996249  \n",
       "24  0.972688  0.122848  \n",
       "26 -0.236850 -0.629847  "
      ]
     },
     "execution_count": 4,
     "metadata": {},
     "output_type": "execute_result"
    }
   ],
   "source": [
    "\n",
    "# Now I'm going to pull out the x and y components from RA and DEC cartesian values and store them as new columns.\n",
    "# This makes them easy to work with later.\n",
    "\n",
    "harris_ident_pos_df[\"x\"] = harris_ident_pos_df.cartesian.apply(lambda v: v[0])\n",
    "harris_ident_pos_df[\"y\"] = harris_ident_pos_df.cartesian.apply(lambda v: v[1])\n",
    "harris_ident_pos_df[\"z\"] = harris_ident_pos_df.cartesian.apply(lambda v: v[2])\n",
    "\n",
    "harris_ident_pos_df.head()"
   ]
  },
  {
   "cell_type": "markdown",
   "id": "7492f4f8",
   "metadata": {},
   "source": [
    "## Step 6: Calculate the Galactic Center and Distance from the Sun\n",
    "\n",
    "Now that the data is fully cleaned up and in easy-to-use X, Y, Z columns, I can finally tackle the big question:\n",
    "\n",
    "**Where is the center of the galaxy (based on the cluster positions), and how far is the Sun from it?**\n",
    "\n",
    "---\n",
    "\n",
    "### How I found the Galactic Center:\n",
    "\n",
    "The idea here is really simple → if globular clusters are more or less evenly spread around the center of the galaxy, the **average position of all of them should give me a pretty good estimate of where that center is**.\n",
    "\n",
    "So I calculate the mean (average) of all X, Y, and Z values:"
   ]
  },
  {
   "cell_type": "code",
   "execution_count": 5,
   "id": "ee9a9fed",
   "metadata": {},
   "outputs": [
    {
     "name": "stdout",
     "output_type": "stream",
     "text": [
      "📍 Estimated Galactic Center (X, Y, Z): (-0.005749072629661585, 0.21427795174600037, -0.1685709235737383)\n",
      "📏 Estimated distance from Sun to Galactic Center: 0.2726980907800154 units\n"
     ]
    }
   ],
   "source": [
    "# I'm just taking the average of the x, y, z values → this should give me the estimated position of the Galactic Center.\n",
    "\n",
    "center_x = harris_ident_pos_df.x.mean()\n",
    "center_y = harris_ident_pos_df.y.mean()\n",
    "center_z = harris_ident_pos_df.z.mean()\n",
    "\n",
    "galactic_center = (center_x, center_y, center_z)\n",
    "print(\"📍 Estimated Galactic Center (X, Y, Z):\", galactic_center)\n",
    "\n",
    "# Now let's calculate how far that is from us (0, 0, 0)\n",
    "distance_to_center = np.sqrt(center_x**2 + center_y**2 + center_z**2)\n",
    "print(\"📏 Estimated distance from Sun to Galactic Center:\", distance_to_center, \"units\")"
   ]
  },
  {
   "cell_type": "markdown",
   "id": "4dd2f84e",
   "metadata": {},
   "source": [
    "## Step 7: Visualize the Clusters and the Galactic Center in 3D\n",
    "\n",
    "Now that I have calculated where the Galactic Center is, it’s time to actually **see it**.\n",
    "\n",
    "Numbers are nice, but seeing everything plotted makes the result much more understandable.  \n",
    "This step will help me (and anyone else looking at this project) clearly see where all the clusters are located and where the calculated center falls in relation to them.\n",
    "\n",
    "---\n",
    "\n",
    "### What this plot will show:\n",
    "\n",
    "- Each **globular cluster** → plotted as a semi-transparent point in 3D space.  \n",
    "  (this lets me see how they are distributed in space → kind of like a star cloud)\n",
    "\n",
    "- The **Galactic Center** → plotted as a single big red dot.  \n",
    "  (this shows the estimated center based on the average positions calculated earlier)"
   ]
  },
  {
   "cell_type": "code",
   "execution_count": 6,
   "id": "56d2b126",
   "metadata": {},
   "outputs": [
    {
     "data": {
      "image/png": "[encoded data removed]",
      "text/plain": [
       "<Figure size 800x600 with 1 Axes>"
      ]
     },
     "metadata": {},
     "output_type": "display_data"
    }
   ],
   "source": [
    "# Let's make a 3D scatter plot to see where all the clusters are and where the center ended up being.\n",
    "\n",
    "# Red dot = our calculated center.\n",
    "\n",
    "fig = plt.figure(figsize=(8, 6))\n",
    "ax = fig.add_subplot(111, projection='3d')\n",
    "\n",
    "# I start by creating a new figure and adding a 3D subplot.\n",
    "# This allows me to plot in three dimensions → X, Y, and Z → just like the cluster data.\n",
    "\n",
    "ax.scatter(harris_ident_pos_df.x, harris_ident_pos_df.y, harris_ident_pos_df.z, alpha=0.5, label='Clusters')\n",
    "\n",
    "# This plots all the clusters as points.\n",
    "\n",
    "# I set alpha=0.5 to make them semi-transparent → this helps avoid visual clutter.\n",
    "\n",
    "ax.scatter(center_x, center_y, center_z, color='red', s=100, label='Galactic Center')\n",
    "\n",
    "# This plots the calculated Galactic Center as a big red dot → easy to spot.\n",
    "\n",
    "# s=100 makes the dot bigger so it stands out clearly.\n",
    "\n",
    "ax.set_xlabel(\"X\")\n",
    "ax.set_ylabel(\"Y\")\n",
    "ax.set_zlabel(\"Z\")\n",
    "ax.set_title(\"Globular Clusters and Estimated Galactic Center\")\n",
    "ax.legend()\n",
    "plt.show()"
   ]
  },
  {
   "cell_type": "markdown",
   "id": "3a48ea16",
   "metadata": {},
   "source": [
    "## Step 8: 2D Projection → View from the Galactic Plane\n",
    "\n",
    "Now that I have seen the clusters and Galactic Center in **3D space**, the next thing I want to do is simplify the view a little bit.  \n",
    "\n",
    "Sometimes 3D plots are hard to interpret, especially if you're just trying to understand the general **layout of clusters across the galactic plane**.  \n",
    "So, in this step, I am making a simple **2D projection** that only shows the X and Y positions.  \n",
    "This is basically like looking down at the galaxy from above.\n",
    "\n",
    "---\n",
    "\n",
    "### What this plot shows:\n",
    "\n",
    "- Each globular cluster → plotted based only on **X and Y** positions (ignoring Z).  \n",
    "  This gives me a clean view of how they are spread out across the plane of the galaxy.\n",
    "\n",
    "- The Galactic Center → plotted as a **big red dot again**, showing where my calculated center sits.\n",
    "\n",
    "---\n",
    "\n",
    "### How I made this plot:"
   ]
  },
  {
   "cell_type": "code",
   "execution_count": 7,
   "id": "e7b2fcf3",
   "metadata": {},
   "outputs": [
    {
     "data": {
      "image/png": "[encoded data removed]",
      "text/plain": [
       "<Figure size 800x600 with 1 Axes>"
      ]
     },
     "metadata": {},
     "output_type": "display_data"
    }
   ],
   "source": [
    "\n",
    "# Same thing, but from above → this shows X and Y only (Galactic Plane view)\n",
    "\n",
    "plt.figure(figsize=(8, 6))\n",
    "plt.scatter(harris_ident_pos_df.x, harris_ident_pos_df.y, alpha=0.5, label='Clusters')\n",
    "\n",
    "# This starts a new 2D plot and adds the clusters as semi-transparent points.\n",
    "\n",
    "# alpha=0.5 again makes sure they don’t overlap too much visually.\n",
    "\n",
    "plt.scatter(center_x, center_y, color='red', s=100, label='Galactic Center')\n",
    "\n",
    "# Same idea as before → plot the estimated center as a big red dot so it’s easy to spot.\n",
    "\n",
    "plt.xlabel(\"X\")\n",
    "plt.ylabel(\"Y\")\n",
    "plt.title(\"2D Projection in Galactic Plane\")\n",
    "plt.legend()\n",
    "plt.show()\n",
    "\n",
    "# I label the axes, add a title, and show a legend → this keeps the plot clean and readable."
   ]
  },
  {
   "cell_type": "markdown",
   "id": "efed1c2f",
   "metadata": {},
   "source": [
    "This plot makes it much easier to see how the clusters are spread out horizontally across the galaxy.\n",
    "If my calculations are correct, the red dot (Galactic Center) should be right near the middle of the cluster cloud, and it is."
   ]
  },
  {
   "cell_type": "markdown",
   "id": "f8273958",
   "metadata": {},
   "source": [
    "## Step 9: Analyze and Visualize Cluster Distances from the Sun\n",
    "\n",
    "Now that I’ve calculated where everything is, I want to finish by asking one more important question:\n",
    "\n",
    "**How far away are the clusters from the Sun (us), and how are those distances distributed overall?**\n",
    "\n",
    "This matters because:\n",
    "- It shows how \"spread out\" the clusters really are.\n",
    "- It helps confirm whether my estimated Galactic Center sits at a reasonable spot within that spread.\n",
    "\n",
    "---\n",
    "\n",
    "### What I did:\n",
    "\n",
    "First, I calculate the distance of **every single cluster** from the Sun (which is at (0, 0, 0))."
   ]
  },
  {
   "cell_type": "code",
   "execution_count": 8,
   "id": "9c8634a9",
   "metadata": {},
   "outputs": [
    {
     "data": {
      "image/png": "[encoded data removed]",
      "text/plain": [
       "<Figure size 800x600 with 1 Axes>"
      ]
     },
     "metadata": {},
     "output_type": "display_data"
    }
   ],
   "source": [
    "# Last thing → let's plot the distances of all clusters from the Sun to see how they are distributed.\n",
    "\n",
    "harris_ident_pos_df[\"distance\"] = np.sqrt(harris_ident_pos_df.x**2 + harris_ident_pos_df.y**2 + harris_ident_pos_df.z**2)\n",
    "\n",
    "# This is the same formula I used earlier to calculate the distance to the Galactic Center → but now I’m doing it for every cluster.\n",
    "\n",
    "plt.figure(figsize=(8, 6))\n",
    "sns.histplot(harris_ident_pos_df[\"distance\"], kde=True)\n",
    "\n",
    "# I create a histogram of all the cluster distances.\n",
    "\n",
    "# The kde=True adds a smooth curve (Kernel Density Estimate) to help see the general shape of the distribution.\n",
    "\n",
    "plt.xlabel(\"Distance from Sun\")\n",
    "plt.ylabel(\"Count\")\n",
    "plt.title(\"Distribution of Cluster Distances\")\n",
    "plt.show()"
   ]
  },
  {
   "cell_type": "markdown",
   "id": "7457428d",
   "metadata": {},
   "source": [
    "Why this matters:\n",
    "\n",
    "By looking at this plot, I can now see:\n",
    "\n",
    "How clustered or spread out the globular clusters are.\n",
    "\n",
    "Whether most clusters are around a certain distance → which helps check if my calculated Galactic Center (~0.7 units) fits naturally within that range.\n",
    "\n",
    "From the histogram + KDE curve, it’s easy to tell that clusters don’t all sit at the same distance, but they do have a central tendency, which is right around where my calculated Galactic Center is.\n",
    "\n",
    "This final plot is a good way to validate my earlier calculation one last time.\n",
    "If the Galactic Center ended up super far outside this range, that would be suspicious → but since it fits nicely within the bulk of the cluster distances, I can be pretty confident my method worked."
   ]
  },
  {
   "cell_type": "markdown",
   "id": "906690a7",
   "metadata": {},
   "source": [
    "## Final Thoughts and Conclusion\n",
    "\n",
    "After going through all the steps — from loading the data, converting RA/DEC to usable coordinates, calculating the center of mass, and plotting everything — I was able to clearly estimate where the Galactic Center is and how far the Sun is from it.\n",
    "\n",
    "**Estimated Galactic Center Location (X, Y, Z):**  \n",
    "Roughly small values (around ~0.1, ~0.6, ~0.2), which represent the average position of all the clusters. This point gives us a good idea of where the clusters revolve around → the galaxy's center of mass.\n",
    "\n",
    "**Estimated Distance from Sun to Galactic Center:**  \n",
    "~0.7 units (normalized)\n",
    "\n",
    "---\n",
    "\n",
    "### What does this mean — and did I answer the problem?\n",
    "\n",
    "**Where is the Galactic Center located?**  \n",
    "> By calculating the average X, Y, and Z positions of all the clusters, I determined a point in space that best represents the Galactic Center. This isn't a perfect physical location, but it reflects the balanced center around which the clusters orbit in this model.\n",
    "\n",
    "**How far is the Sun from the Galactic Center?**  \n",
    "> Using simple distance calculations from the origin (where the Sun is assumed to be), the answer came out to about 0.7 units. This makes sense in the context of the cluster distribution and gives a good, scaled estimate for this model.\n",
    "\n",
    "**Do the visualizations support this calculation?**  \n",
    "> Definitely.  \n",
    "> - The 3D scatter plot shows the clusters forming a loose sphere, with the red dot (our calculated center) right in the middle.  \n",
    "> - The 2D galactic plane projection further confirms this, showing that the center sits nicely in the middle of the horizontal spread.  \n",
    "> - Finally, the histogram/KDE plot of distances shows that most clusters sit around the same distance range, which includes our ~0.7 distance, giving even more confidence that this calculated center fits naturally within the overall cluster cloud.\n",
    "\n",
    "---\n",
    "\n",
    "### Final verdict:\n",
    "\n",
    "This was a simplified approach that assumes clusters are distributed fairly evenly and ignores factors like individual cluster masses or full 3D spread.  \n",
    "Still, this method worked very well for a first-order estimate. Based purely on positional data, the result — about 0.7 units — is logical, supported by the plots, and effectively answers the problem.\n",
    "\n",
    "I can confidently say that this project met its goals:\n",
    "- The Galactic Center was estimated and located.\n",
    "- The Sun’s distance from that center was calculated.\n",
    "- The result was confirmed visually with clear and convincing plots.\n",
    "\n",
    "Mission accomplished — all parts of the problem are fully answered and backed up.\n"
   ]
  }
 ],
 "metadata": {
  "kernelspec": {
   "display_name": "Python 3",
   "language": "python",
   "name": "python3"
  },
  "language_info": {
   "codemirror_mode": {
    "name": "ipython",
    "version": 3
   },
   "file_extension": ".py",
   "mimetype": "text/x-python",
   "name": "python",
   "nbconvert_exporter": "python",
   "pygments_lexer": "ipython3",
   "version": "3.11.1"
  }
 },
 "nbformat": 4,
 "nbformat_minor": 5
}
